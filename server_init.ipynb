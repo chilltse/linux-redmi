{
 "cells": [
  {
   "cell_type": "code",
   "execution_count": null,
   "id": "initial_id",
   "metadata": {
    "collapsed": true
   },
   "outputs": [],
   "source": ""
  },
  {
   "metadata": {},
   "cell_type": "markdown",
   "source": [
    "# 更新系统\n",
    "sudo apt update && sudo apt upgrade -y\n",
    "\n",
    "# 安装 Docker & Docker Compose\n",
    "sudo apt install -y docker.io docker-compose\n",
    "sudo systemctl enable docker --now\n"
   ],
   "id": "1d09a2c91a071bc1"
  },
  {
   "metadata": {},
   "cell_type": "markdown",
   "source": [
    "docker volume create portainer_data\n",
    "\n",
    "docker run -d \\\n",
    "  -p 9000:9000 \\\n",
    "  -p 8000:8000 \\\n",
    "  --name=portainer \\\n",
    "  --restart=always \\\n",
    "  -v /var/run/docker.sock:/var/run/docker.sock \\\n",
    "  -v portainer_data:/data \\\n",
    "  portainer/portainer-ce\n",
    "\n",
    "## npm 下载：\n",
    "sudo apt install npm\n",
    "\n",
    "### node 下载\n",
    "# 安装 nvm（如果没装过）\n",
    "curl -o- https://raw.githubusercontent.com/nvm-sh/nvm/v0.39.7/install.sh | bash\n",
    "source ~/.bashrc   # 或者 source ~/.zshrc\n",
    "\n",
    "# 查看可用的 Node 版本\n",
    "nvm ls-remote\n",
    "\n",
    "# 安装并切换到 Node 20 最新版\n",
    "nvm install 20\n",
    "nvm use 20\n",
    "\n",
    "# 设置 Node 20 为默认版本\n",
    "nvm alias default 20\n",
    "\n"
   ],
   "id": "3067e922200a12c0"
  },
  {
   "metadata": {},
   "cell_type": "code",
   "outputs": [],
   "execution_count": null,
   "source": "",
   "id": "6b4fa1ef63ea3cb6"
  }
 ],
 "metadata": {
  "kernelspec": {
   "display_name": "Python 3",
   "language": "python",
   "name": "python3"
  },
  "language_info": {
   "codemirror_mode": {
    "name": "ipython",
    "version": 2
   },
   "file_extension": ".py",
   "mimetype": "text/x-python",
   "name": "python",
   "nbconvert_exporter": "python",
   "pygments_lexer": "ipython2",
   "version": "2.7.6"
  }
 },
 "nbformat": 4,
 "nbformat_minor": 5
}
